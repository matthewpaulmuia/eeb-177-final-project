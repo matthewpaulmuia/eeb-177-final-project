{
 "cells": [
  {
   "cell_type": "markdown",
   "metadata": {},
   "source": [
    "# Lightning Presentation\n",
    "## California Valley Oak\n",
    "<img src=\"Valley-Oak.jpg\">\n",
    "## Valley Oak Range\n",
    "<img src=\"Oak-Range.jpg\">\n",
    "## What To Do\n",
    "1. Control for blocks*\n",
    "\n",
    "2. Make graph of each garden\n",
    "\n",
    "3. Histogram of each garden*\n",
    "\n",
    "4. Perform 2-group t-test\n",
    "\n",
    "5. Bootstrap 2-group comparison"
   ]
  },
  {
   "cell_type": "markdown",
   "metadata": {},
   "source": [
    "<img src=\"files/Screenshots/First-photo.png\">\n",
    "<img src=\"files/Screenshots/Second-photo.png\">\n",
    "<img src=\"files/Screenshots/Third-photo.png\">\n",
    "<img src=\"files/Screenshots/Fourth-photo.png\">\n",
    "<img src=\"files/Screenshots/Fifth-photo.png\">\n",
    "<img src=\"files/Screenshots/Sixth-photo.png\">\n",
    "<img src=\"files/Screenshots/Seventh-photo.png\">\n",
    "<img src=\"files/Screenshots/Eighth-photo.png\">\n",
    "<img src=\"files/Screenshots/Ninth-photo.png\">\n",
    "<img src=\"files/Screenshots/Tenth-photo.png\">\n",
    "<img src=\"files/Screenshots/Eleventh-photo.png\">\n",
    "<img src=\"files/Screenshots/Twelvth-photo.png\">\n",
    "<img src=\"files/Screenshots/Thirteenth-photo.png\">\n",
    "<img src=\"files/Screenshots/Fourteenth-photo.png\">\n"
   ]
  },
  {
   "cell_type": "markdown",
   "metadata": {},
   "source": [
    "## Data Manipulation"
   ]
  },
  {
   "cell_type": "code",
   "execution_count": 10,
   "metadata": {
    "collapsed": false
   },
   "outputs": [],
   "source": [
    "file = \"/home/eeb177-student/Downloads/Block-Controlled-Data.csv\"\n",
    "with open(file, 'r') as ff:\n",
    "    ff.readline()\n",
    "    growth_data = ff.readlines()    "
   ]
  },
  {
   "cell_type": "code",
   "execution_count": 39,
   "metadata": {
    "collapsed": false
   },
   "outputs": [],
   "source": [
    "from collections import defaultdict\n",
    "\n",
    "growth_height = {} \n",
    "growth_leaves = {}\n",
    "growth_branches = {}\n",
    "\n",
    "for line in growth_data:\n",
    "    provenance = str(line.split(\",\")[1])\n",
    "    new_height = float(line.split(\",\")[12])\n",
    "    new_leaves = float(line.split(\",\")[13])\n",
    "    new_branches = float(line.split(\",\")[14])\n",
    "    #print(provenance, new_height, new_leaves, new_branches)\n",
    "    \n",
    "    growth_height[provenance] = new_height\n",
    "    growth_leaves[provenance] = new_leaves\n",
    "    growth_branches[provenance] = new_branches"
   ]
  },
  {
   "cell_type": "code",
   "execution_count": 42,
   "metadata": {
    "collapsed": false
   },
   "outputs": [],
   "source": [
    "def average_dict(DictName):\n",
    "    from scipy import mean\n",
    "    print(list(map(lambda x: mean(DictName[x]), DictName)))"
   ]
  },
  {
   "cell_type": "code",
   "execution_count": 44,
   "metadata": {
    "collapsed": false
   },
   "outputs": [
    {
     "name": "stdout",
     "output_type": "stream",
     "text": [
      "[159.26633205863601, 226.04925413687499]\n",
      "[3.8039555449330802, 6.4449303900460997]\n",
      "[5.2081421287444201, 29.151399803899]\n"
     ]
    }
   ],
   "source": [
    "average_dict(growth_height)\n",
    "average_dict(growth_leaves)\n",
    "average_dict(growth_branches)"
   ]
  },
  {
   "cell_type": "markdown",
   "metadata": {},
   "source": [
    "## GitHub Link\n",
    "https://github.com/matthewpaulmuia/eeb-177-final-project\n",
    "\n",
    "## References\n",
    "1. McLaughlin, B. C., & Zavaleta, E. S. (2012). Predicting species responses to climate change: demography and climate microrefugia in California valley oak (Quercus lobata). Global Change Biology, 2301-2312.\n",
    "\n",
    "2. Sork, V. L. (2016). Gene flow and natural selection shape spatial patterns of genes in tree populations: implications for evolutionary processes and applications. Evolutionary Applications, 291-310.\n",
    "\n",
    "3. Sork, V. L., Davis, F. W., Westfall, R., Flint, A., Ikegami, M., Wang, H. F., et al. (2010). Gene movement and genetic association with regional climate gradients in California valley oak (Quercus lobata Nee) in the face of climate change. Molecular Ecology, 19, 3806-3823."
   ]
  },
  {
   "cell_type": "code",
   "execution_count": null,
   "metadata": {
    "collapsed": true
   },
   "outputs": [],
   "source": []
  }
 ],
 "metadata": {
  "anaconda-cloud": {},
  "kernelspec": {
   "display_name": "Python [default]",
   "language": "python",
   "name": "python3"
  },
  "language_info": {
   "codemirror_mode": {
    "name": "ipython",
    "version": 3
   },
   "file_extension": ".py",
   "mimetype": "text/x-python",
   "name": "python",
   "nbconvert_exporter": "python",
   "pygments_lexer": "ipython3",
   "version": "3.5.2"
  }
 },
 "nbformat": 4,
 "nbformat_minor": 2
}
