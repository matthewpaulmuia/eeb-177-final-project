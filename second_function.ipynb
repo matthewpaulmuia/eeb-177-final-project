{
 "cells": [
  {
   "cell_type": "code",
   "execution_count": 34,
   "metadata": {
    "collapsed": false
   },
   "outputs": [],
   "source": [
    "# I am writing a function that will take a csv data file as an input, and output the data without blank spaces.\n",
    "# The data is written such that each line is associated with a provenance code, but some lines to not have a code\n",
    "# (look at output below) because the blanks are assumed to be the same value as the provenance string that is above it\n",
    "# I will need to write a regular expression that will find each of these blank positions, and replace them with\n",
    "# the provenance name that is found above it.\n",
    "# I was not quite able to figure this function out, but I have wirtten what I know and done the rest as pseudocode.\n",
    "import re\n",
    "def blank_remover(FILENAME):\n",
    "    leafdata = open(FILENAME)\n",
    "    leafdata.readline()\n",
    "    for lines in leafdata:\n",
    "        split = lines.split(\",\")\n",
    "        provenance = split[0]\n",
    "        # I now have the data defined as \"provenance\" that I will need to perform the regular expression on"
   ]
  },
  {
   "cell_type": "markdown",
   "metadata": {},
   "source": [
    "I will now have to use a regular expression to match the blank spaces (see sample below) and replace them with the provenance that preceeds the blank.\n",
    "\n",
    "```\n",
    "if re.match('^\\n*$') in provenance:\n",
    "\n",
    "```\n",
    "This will allow me to match the instances in which there are blank spaces instead of provenance codes.\n",
    "\n",
    "I will finally have to replace each blank, but I don't know what python function would allow me to do that."
   ]
  },
  {
   "cell_type": "code",
   "execution_count": 35,
   "metadata": {
    "collapsed": false
   },
   "outputs": [
    {
     "name": "stdout",
     "output_type": "stream",
     "text": [
      "SON\n",
      "\n",
      "\n",
      "\n",
      "SON\n",
      "\n",
      "\n",
      "\n",
      "MAR\n",
      "\n",
      "\n",
      "\n",
      "MAR\n",
      "\n",
      "\n",
      "SCL\n",
      "SCL\n",
      "\n",
      "\n",
      "\n",
      "SUG\n",
      "\n",
      "\n",
      "\n",
      "SUG\n",
      "\n",
      "\n",
      "\n",
      "OKG\n",
      "OKG\n",
      "\n",
      "\n",
      "CR6\n",
      "\n",
      "\n",
      "\n",
      "CVD\n",
      "\n",
      "\n"
     ]
    }
   ],
   "source": [
    "blank_remover(\"leaf-morphology-data-sample.csv\")"
   ]
  },
  {
   "cell_type": "code",
   "execution_count": null,
   "metadata": {
    "collapsed": true
   },
   "outputs": [],
   "source": []
  }
 ],
 "metadata": {
  "anaconda-cloud": {},
  "kernelspec": {
   "display_name": "Python [default]",
   "language": "python",
   "name": "python3"
  },
  "language_info": {
   "codemirror_mode": {
    "name": "ipython",
    "version": 3
   },
   "file_extension": ".py",
   "mimetype": "text/x-python",
   "name": "python",
   "nbconvert_exporter": "python",
   "pygments_lexer": "ipython3",
   "version": "3.5.2"
  }
 },
 "nbformat": 4,
 "nbformat_minor": 2
}
