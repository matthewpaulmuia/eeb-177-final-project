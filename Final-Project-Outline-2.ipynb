{
 "cells": [
  {
   "cell_type": "markdown",
   "metadata": {},
   "source": [
    "# Introduction\n",
    "The California Valley Oak is an important oak species endemic to California. The Valley Oak is found throughout California, from riparian forests to savannas, and it creates structure within these ecosystems that other species can inhabit (1). \n",
    "\n",
    "Recent climate projections for California predict drastic changes in percipitation and temperature, which could have adverse affects on Valley Oak growth and survival (2). If the Valley Oak are populations affected by these changes in climate, there could be further detrimental changes in the vegitation and animals that live within the Valley Oak's ecological range. There are also genetic components to the possible effects, as different genotypes may confer different phenotypic plasticity in the face of climate change(3). \n",
    "\n",
    "Dr. Sork's lab, where I work as an undergraduate researcher, is performing a study aimed at determining the potential threats climate change has on Valley Oak populations. The study began by identifying seperate populations across California, and compiling climate data unique to each. Seed samples were then taken from individuals within each of these populations (93 in total). These seeds were then planted into two common gardens, one in Chico and the other in Placerville. The gardens contain the same proportions of individuals from each population.\n",
    "\n",
    "The purpose of these common gardens is to enable our lab to compare the growth of individuals from each population to eachother. The climate data from the parent populations then allows us to determine if variations in the climates from which each population is adapted to explains the variation in growth we observe in the common gardens. \n",
    "\n",
    "My project will be focusing on the differences between the growth variables measured from the trees in the common gardens. \n",
    "\n",
    "\n",
    "\n",
    "# Methods\n",
    "I first need to clean up the data within my unix shell. There are several measured variable that I won't need for my analysis, so I will want to remove those from each data set using:\n",
    "```\n",
    "cut -d \",\" -f (provenence, growth data) EACHFILE.csv >> FORMATTED_EACHFILE.csv\n",
    "```\n",
    "Once I have formatted the data files, I will have to control for the blocks where the trees were grown. Each garden was seperated into five blocks, which contained randomly assigned individuals. The purpose of blocking is the control for variations in environmental factors (percipitation, soil quality, etc.) across each garden because the gardens' environments are not completely homogenous. Therefore, I need to perform a regression that will allow me to standardize the variations in each growth variable (height, leaf number, etc.) between all 5 blocks for each of the two gardens. I can do this in Rstudio using:\n",
    "```{r}\n",
    "IFG <- read.csv(\"IFG-Data.csv\", header= T, sep = \",\")\n",
    "IFG.blockmodel <- lm(IFG$Height~IFG$Block, data = IFG)\n",
    "\n",
    "plot(IFG.blockmodel)\n",
    "```\n",
    "I will need to take the information from each of the two above graphs and import them back into ipython. \n",
    "\n",
    "I want to take the average of the growth data seperated by each provenence. This will allow for further analysis of the data to determine how genetically different populations respond to different environments. This will allow me to determine the phenotypic plasticity of certain traits for the Valley Oak.\n",
    "\n",
    "# Results\n",
    "I will be making several plots for this project. I will use Rstudio for most, if not all, of the graphs for this project.\n",
    "\n",
    "There will be two plots that will control for the blocks within each garden.\n",
    "\n",
    "I will make histograms for each growth variable that was measured in each garden.\n",
    "\n",
    "Once I have these histograms, I will compare the distributions with 2-group t-tests for each growth variable, which will tell me if there is a significant difference between the growth of the trees in the two gardens. \n",
    "\n",
    "If the distributions are not normally distributed, the 2-group t-tests will not be accurate representations of the data, so I would like to perform a bootstrap 2-group comparison within Rstudio to more accurately determine a differnece between the growth of the trees in the two gardens."
   ]
  },
  {
   "cell_type": "markdown",
   "metadata": {
    "collapsed": true
   },
   "source": [
    "![](First-photo.png)\n",
    "![](Second-photo.png)\n",
    "![](Third-photo.png)\n",
    "![](Fourth-photo.png)\n",
    "![](Fifth-photo.png)\n",
    "![](Sixth-photo.png)\n",
    "![](Seventh-photo.png)\n",
    "![](Eigth-photo.png)\n",
    "![](Nineth-photo.png)\n",
    "![](Tenth-photo.png)\n",
    "![](Eleventh-photo.png)\n",
    "![](Twelvth-photo.png)\n",
    "![](Thirteenth-photo.png)\n",
    "![](Fourteenth-photo.png)"
   ]
  },
  {
   "cell_type": "markdown",
   "metadata": {},
   "source": [
    "# References\n",
    "1. McLaughlin, B. C., & Zavaleta, E. S. (2012). Predicting species responses to climate change: demography and climate microrefugia in California valley oak (Quercus lobata). Global Change Biology, 2301-2312.\n",
    "\n",
    "2. Sork, V. L. (2016). Gene flow and natural selection shape spatial patterns of genes in tree populations: implications for evolutionary processes and applications. Evolutionary Applications, 291-310.\n",
    "\n",
    "3. Sork, V. L., Davis, F. W., Westfall, R., Flint, A., Ikegami, M., Wang, H. F., et al. (2010). Gene movement and genetic association with regional climate gradients in California valley oak (Quercus lobata Nee) in the face of climate change. Molecular Ecology, 19, 3806-3823."
   ]
  },
  {
   "cell_type": "code",
   "execution_count": null,
   "metadata": {
    "collapsed": true
   },
   "outputs": [],
   "source": []
  }
 ],
 "metadata": {
  "anaconda-cloud": {},
  "kernelspec": {
   "display_name": "Python [default]",
   "language": "python",
   "name": "python3"
  },
  "language_info": {
   "codemirror_mode": {
    "name": "ipython",
    "version": 3
   },
   "file_extension": ".py",
   "mimetype": "text/x-python",
   "name": "python",
   "nbconvert_exporter": "python",
   "pygments_lexer": "ipython3",
   "version": "3.5.2"
  }
 },
 "nbformat": 4,
 "nbformat_minor": 2
}
