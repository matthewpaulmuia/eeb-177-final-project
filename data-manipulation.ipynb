{
 "cells": [
  {
   "cell_type": "markdown",
   "metadata": {
    "collapsed": true
   },
   "source": [
    "## Visualizing Data\n",
    "Once I have finished formatting the data (described in the file-input-output file) I will begin visualizing my data.\n",
    "\n",
    "First I will want to make several plots that compare each leaf morphology variable with each climate variable. Finding correlation coefficients and R^2 values for each of these plots, I will be able to identify which climate variables appear to best predict the change in growth variables."
   ]
  }
 ],
 "metadata": {
  "anaconda-cloud": {},
  "kernelspec": {
   "display_name": "Python [default]",
   "language": "python",
   "name": "python3"
  },
  "language_info": {
   "codemirror_mode": {
    "name": "ipython",
    "version": 3
   },
   "file_extension": ".py",
   "mimetype": "text/x-python",
   "name": "python",
   "nbconvert_exporter": "python",
   "pygments_lexer": "ipython3",
   "version": "3.5.2"
  }
 },
 "nbformat": 4,
 "nbformat_minor": 2
}
