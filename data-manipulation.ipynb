{
 "cells": [
  {
   "cell_type": "markdown",
   "metadata": {},
   "source": [
    "## Formatting Leaf Morphology Data\n",
    "Now that the leaf morphology data is in a single data sheet, I need to average the data for each individual tree, and then average the data of the individuals into data for each Provence.\n",
    "\n",
    "Since the climate variables are measured for each provence where the seeds that were used to grow the trees whose leaf morphology data I have. I need the leaf morphology data to be grouped by provence so that I can figure out the differences in growth between provences that is due to different climate variables.\n",
    "\n",
    "#### I can accomplish this by:\n",
    "```\n",
    "sort (by whichever field contains Provenance data) formatted.morphology-data.csv > provenence-morphology-data.csv\n",
    "```\n",
    "Then I will average all the other data values by each provenence with a for loop in my jupyter notebook. The loop would look something like this:\n",
    "```\n",
    "for individual in morphology-data-variable:\n",
    "    sum = 0\n",
    "    total = 0\n",
    "    sum = individual + sum\n",
    "    total = total + 1\n",
    "    print(\"The average value is: \" + sum/total)\n",
    "```"
   ]
  },
  {
   "cell_type": "markdown",
   "metadata": {
    "collapsed": true
   },
   "source": [
    "## Visualizing Data\n",
    "Once I have finished formatting the data (described in the file-input-output file) I will begin visualizing my data.\n",
    "\n",
    "First I will want to make several plots that compare each leaf morphology variable with each climate variable. Finding correlation coefficients and R^2 values for each of these plots. I will be able to identify which climate variables appear to best predict the change in growth variables.\n",
    "\n",
    "I will have a data file that contains growth data for all my variables, for each provenance. I will have another data file that contains climate data for all my climate variables, for each provenance. I want to compare (with a scatter plot) each of the gorwth variables with each of the climate variables, so I will have to write a loop that can perform this task. I first want to merege the files in Unix Shell by appending one to the other (both should already be sorted by provenance."
   ]
  },
  {
   "cell_type": "code",
   "execution_count": null,
   "metadata": {
    "collapsed": true
   },
   "outputs": [],
   "source": []
  }
 ],
 "metadata": {
  "anaconda-cloud": {},
  "kernelspec": {
   "display_name": "Python [default]",
   "language": "python",
   "name": "python3"
  },
  "language_info": {
   "codemirror_mode": {
    "name": "ipython",
    "version": 3
   },
   "file_extension": ".py",
   "mimetype": "text/x-python",
   "name": "python",
   "nbconvert_exporter": "python",
   "pygments_lexer": "ipython3",
   "version": "3.5.2"
  }
 },
 "nbformat": 4,
 "nbformat_minor": 2
}
