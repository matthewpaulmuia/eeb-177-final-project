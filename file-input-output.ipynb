{
 "cells": [
  {
   "cell_type": "markdown",
   "metadata": {
    "collapsed": true
   },
   "source": [
    "## Morphology Data\n",
    "### I need to format the data into new files containing the data that I will be analyzing. I will use Unix Shell for this section\n",
    "#### To find leaf Row, Line, Provenance, Area, and Perimeter use:\n",
    "```\n",
    "cut -d \",\" -f 4,5,7,44,45 on leaf-morphology-data.csv\n",
    "```\n",
    "#### To find Row, Line, Tree Height, and Number of Leaves use:\n",
    "```\n",
    "cut -d \",\" -f 3,4,7,8 on climate-data.csv\n",
    "```\n",
    "#### Now I need to put this data in a new .csv file with:\n",
    "```\n",
    "> formatted.morphology-data.csv\n",
    "```\n",
    "\n",
    "## Climate Data\n",
    "#### To find Elevation,  Mean Annual Temp, Mean Annual Percipitation use:\n",
    "```\n",
    "cut -d \",\" -f 40,69,70 on climate-data.csv\n",
    "```\n",
    "#### Now I will put this data in it's own file with:\n",
    "```\n",
    "> formatted.climate-data.csv\n",
    "```"
   ]
  }
 ],
 "metadata": {
  "anaconda-cloud": {},
  "kernelspec": {
   "display_name": "Python [default]",
   "language": "python",
   "name": "python3"
  },
  "language_info": {
   "codemirror_mode": {
    "name": "ipython",
    "version": 3
   },
   "file_extension": ".py",
   "mimetype": "text/x-python",
   "name": "python",
   "nbconvert_exporter": "python",
   "pygments_lexer": "ipython3",
   "version": "3.5.2"
  }
 },
 "nbformat": 4,
 "nbformat_minor": 2
}
